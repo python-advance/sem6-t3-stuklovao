{
 "cells": [
  {
   "cell_type": "code",
   "execution_count": 33,
   "metadata": {},
   "outputs": [
    {
     "name": "stdout",
     "output_type": "stream",
     "text": [
      "\n",
      "dollar = USD = R01235 \n",
      "euro = EUR = R01239 \n",
      "iena = GBP = R01820  \n",
      " {'R01235': '62,5229', 'R01239': '71,2323', 'R01820': '58,4190'}\n"
     ]
    }
   ],
   "source": [
    "from __future__ import annotations\n",
    "from urllib.request import urlopen \n",
    "from xml.etree import ElementTree as ET \n",
    "from functools import lru_cache \n",
    "from typing import Optional \n",
    "from datetime import timedelta, datetime \n",
    "import time\n",
    "\n",
    "def get_currencies(currencies_ids_lst=['R01235', 'R01239', 'R01820']):\n",
    "    \"\"\"\n",
    "    получение курсов валют с сайта Центробанка\n",
    "    \"\"\"\n",
    "    cur_res_str = urlopen(\"http://www.cbr.ru/scripts/XML_daily.asp\")\n",
    "    result = {}\n",
    "    cur_res_xml = ET.parse(cur_res_str)\n",
    "    root = cur_res_xml.getroot()\n",
    "    valutes = root.findall('Valute')\n",
    "    for el in valutes:\n",
    "        valute_id = el.get('ID')\n",
    "        if str(valute_id) in currencies_ids_lst:\n",
    "            valute_cur_val = el.find('Value').text\n",
    "            result[valute_id] = valute_cur_val\n",
    "    time.process_time()\n",
    "    return result\n",
    "\n",
    "class SingletonMeta(type): \n",
    "\n",
    "    _instance: Optional[Singleton] = None \n",
    "    def __call__(self) -> Singleton: \n",
    "        if self._instance is None: \n",
    "            self._instance = super().__call__() \n",
    "        return self._instance \n",
    "\n",
    "\n",
    "class CurrencyBoard(metaclass=SingletonMeta):\n",
    "    \"\"\"\n",
    "    класс-синглтон\n",
    "    \"\"\"\n",
    "    \n",
    "    def __init__(self):\n",
    "            self.currencies = ['R01235','R01239','R01820']\n",
    "            self.rates = get_currencies(self.currencies)\n",
    "\n",
    "    def get_from_cache(self, code):\n",
    "        \"\"\"\n",
    "        без запроса к сайту\n",
    "        \"\"\"\n",
    "        return self.currencies[code]\n",
    "\n",
    "    def get_new_currency(self, code):\n",
    "        \"\"\"\n",
    "        запрос информации о курсах новой валюты  и добавление её в кэш\n",
    "        \"\"\"\n",
    "        self.currencies.append(code)\n",
    "        self.rates.update(get_currencies([code]))\n",
    "        return self.rates[code]\n",
    "\n",
    "    def update(self):\n",
    "        \"\"\"\n",
    "        принудительно обновляем данных\n",
    "        \"\"\"\n",
    "        new = get_currencies(self.currencies)\n",
    "        self.rates.update(dict(zip(sorted(self.currencies),new.values())))\n",
    "        return self.rates\n",
    "\n",
    "    def check(self):\n",
    "        \"\"\"\n",
    "        проводим проверку времени обновления\n",
    "        \"\"\"\n",
    "\n",
    "        if (time.process_time() > 5*60):\n",
    "            return get_currencies(self.currencies)\n",
    "        else:\n",
    "            print('Обновление не требуется')\n",
    "\n",
    "cur_vals = get_currencies()\n",
    "\n",
    "print(\"\\ndollar = USD = R01235 \\neuro = EUR = R01239 \\niena = GBP = R01820  \\n\", cur_vals)"
   ]
  },
  {
   "cell_type": "code",
   "execution_count": null,
   "metadata": {},
   "outputs": [],
   "source": []
  },
  {
   "cell_type": "code",
   "execution_count": null,
   "metadata": {},
   "outputs": [],
   "source": []
  }
 ],
 "metadata": {
  "kernelspec": {
   "display_name": "Python 3",
   "language": "python",
   "name": "python3"
  },
  "language_info": {
   "codemirror_mode": {
    "name": "ipython",
    "version": 3
   },
   "file_extension": ".py",
   "mimetype": "text/x-python",
   "name": "python",
   "nbconvert_exporter": "python",
   "pygments_lexer": "ipython3",
   "version": "3.7.1"
  }
 },
 "nbformat": 4,
 "nbformat_minor": 2
}
